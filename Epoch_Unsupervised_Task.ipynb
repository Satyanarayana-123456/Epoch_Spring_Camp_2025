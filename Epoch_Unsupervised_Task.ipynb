{
  "nbformat": 4,
  "nbformat_minor": 0,
  "metadata": {
    "colab": {
      "provenance": []
    },
    "kernelspec": {
      "name": "python3",
      "display_name": "Python 3"
    },
    "language_info": {
      "name": "python"
    }
  },
  "cells": [
    {
      "cell_type": "markdown",
      "source": [
        "Importing required libraries"
      ],
      "metadata": {
        "id": "_ruRlSPz1Cu9"
      }
    },
    {
      "cell_type": "code",
      "execution_count": 168,
      "metadata": {
        "id": "a3qoBUFyJDRm"
      },
      "outputs": [],
      "source": [
        "import numpy as np\n",
        "import numpy.linalg as LA\n",
        "import pandas as pd\n",
        "import matplotlib.pyplot as plt"
      ]
    },
    {
      "cell_type": "markdown",
      "source": [
        "Reading the csv file and taking the data that corresponds to Andhra Pradesh"
      ],
      "metadata": {
        "id": "1VxN8oak1Hyt"
      }
    },
    {
      "cell_type": "code",
      "source": [
        "df = pd.read_csv('clustering_data.csv', low_memory = False)\n",
        "\n",
        "df = df.dropna(subset=['Latitude', 'Longitude'])\n",
        "\n",
        "home_state = 'Andhra Pradesh Circle'\n",
        "\n",
        "home_state_df = df[df[df.columns[0]] == home_state]\n",
        "home_state_df"
      ],
      "metadata": {
        "colab": {
          "base_uri": "https://localhost:8080/",
          "height": 790
        },
        "id": "qLkhuptiAHEw",
        "outputId": "4163cb17-e31a-4b9e-c7be-67609a439e2b"
      },
      "execution_count": 169,
      "outputs": [
        {
          "output_type": "execute_result",
          "data": {
            "text/plain": [
              "                   CircleName         RegionName        DivisionName  \\\n",
              "0       Andhra Pradesh Circle     Kurnool Region   Hindupur Division   \n",
              "1       Andhra Pradesh Circle     Kurnool Region   Hindupur Division   \n",
              "2       Andhra Pradesh Circle     Kurnool Region   Hindupur Division   \n",
              "3       Andhra Pradesh Circle     Kurnool Region   Hindupur Division   \n",
              "4       Andhra Pradesh Circle     Kurnool Region   Hindupur Division   \n",
              "...                       ...                ...                 ...   \n",
              "151151  Andhra Pradesh Circle     Kurnool Region  Proddatur Division   \n",
              "151152  Andhra Pradesh Circle     Kurnool Region  Proddatur Division   \n",
              "151153  Andhra Pradesh Circle     Kurnool Region  Proddatur Division   \n",
              "153176  Andhra Pradesh Circle     Kurnool Region   Tirupati Division   \n",
              "153218  Andhra Pradesh Circle  Vijayawada Region      Gudur Division   \n",
              "\n",
              "                    OfficeName  Pincode OfficeType  Delivery      District  \\\n",
              "0               Peddakotla B.O   515631         BO  Delivery     ANANTAPUR   \n",
              "1               Pinnadhari B.O   515631         BO  Delivery     ANANTAPUR   \n",
              "2          Yerraguntapalle B.O   515631         BO  Delivery     ANANTAPUR   \n",
              "3          Obulareddipalli B.O   515581         BO  Delivery     ANANTAPUR   \n",
              "4               Odulapalli B.O   515581         BO  Delivery     ANANTAPUR   \n",
              "...                        ...      ...        ...       ...           ...   \n",
              "151151       Simhadripuram S.O   516454         PO  Delivery        Y.S.R.   \n",
              "151152           Vaimpalle S.O   516329         PO  Delivery        Y.S.R.   \n",
              "151153  Veerapunayanipalle S.O   516321         PO  Delivery        Y.S.R.   \n",
              "153176              Nagari S.O   517590         PO  Delivery      CHITTOOR   \n",
              "153218         Bangarupeta S.O   524404         PO  Delivery  SPSR NELLORE   \n",
              "\n",
              "             StateName    Latitude   Longitude  \n",
              "0       ANDHRA PRADESH     14.5689    77.85624  \n",
              "1       ANDHRA PRADESH     14.5281   77.857014  \n",
              "2       ANDHRA PRADESH   14.561111    77.85715  \n",
              "3       ANDHRA PRADESH     14.2488     78.2588  \n",
              "4       ANDHRA PRADESH    14.24555     78.2477  \n",
              "...                ...         ...         ...  \n",
              "151151  ANDHRA PRADESH  14.6264444  78.1294722  \n",
              "151152  ANDHRA PRADESH  14.3728333  78.4443889  \n",
              "151153  ANDHRA PRADESH  14.4720833  78.4716389  \n",
              "153176  ANDHRA PRADESH  13.3217778  79.5858333  \n",
              "153218  ANDHRA PRADESH  13.9648611  79.6010556  \n",
              "\n",
              "[9596 rows x 11 columns]"
            ],
            "text/html": [
              "\n",
              "  <div id=\"df-7cd42d3a-424f-4e7c-ac8d-383aab29dbc9\" class=\"colab-df-container\">\n",
              "    <div>\n",
              "<style scoped>\n",
              "    .dataframe tbody tr th:only-of-type {\n",
              "        vertical-align: middle;\n",
              "    }\n",
              "\n",
              "    .dataframe tbody tr th {\n",
              "        vertical-align: top;\n",
              "    }\n",
              "\n",
              "    .dataframe thead th {\n",
              "        text-align: right;\n",
              "    }\n",
              "</style>\n",
              "<table border=\"1\" class=\"dataframe\">\n",
              "  <thead>\n",
              "    <tr style=\"text-align: right;\">\n",
              "      <th></th>\n",
              "      <th>CircleName</th>\n",
              "      <th>RegionName</th>\n",
              "      <th>DivisionName</th>\n",
              "      <th>OfficeName</th>\n",
              "      <th>Pincode</th>\n",
              "      <th>OfficeType</th>\n",
              "      <th>Delivery</th>\n",
              "      <th>District</th>\n",
              "      <th>StateName</th>\n",
              "      <th>Latitude</th>\n",
              "      <th>Longitude</th>\n",
              "    </tr>\n",
              "  </thead>\n",
              "  <tbody>\n",
              "    <tr>\n",
              "      <th>0</th>\n",
              "      <td>Andhra Pradesh Circle</td>\n",
              "      <td>Kurnool Region</td>\n",
              "      <td>Hindupur Division</td>\n",
              "      <td>Peddakotla B.O</td>\n",
              "      <td>515631</td>\n",
              "      <td>BO</td>\n",
              "      <td>Delivery</td>\n",
              "      <td>ANANTAPUR</td>\n",
              "      <td>ANDHRA PRADESH</td>\n",
              "      <td>14.5689</td>\n",
              "      <td>77.85624</td>\n",
              "    </tr>\n",
              "    <tr>\n",
              "      <th>1</th>\n",
              "      <td>Andhra Pradesh Circle</td>\n",
              "      <td>Kurnool Region</td>\n",
              "      <td>Hindupur Division</td>\n",
              "      <td>Pinnadhari B.O</td>\n",
              "      <td>515631</td>\n",
              "      <td>BO</td>\n",
              "      <td>Delivery</td>\n",
              "      <td>ANANTAPUR</td>\n",
              "      <td>ANDHRA PRADESH</td>\n",
              "      <td>14.5281</td>\n",
              "      <td>77.857014</td>\n",
              "    </tr>\n",
              "    <tr>\n",
              "      <th>2</th>\n",
              "      <td>Andhra Pradesh Circle</td>\n",
              "      <td>Kurnool Region</td>\n",
              "      <td>Hindupur Division</td>\n",
              "      <td>Yerraguntapalle B.O</td>\n",
              "      <td>515631</td>\n",
              "      <td>BO</td>\n",
              "      <td>Delivery</td>\n",
              "      <td>ANANTAPUR</td>\n",
              "      <td>ANDHRA PRADESH</td>\n",
              "      <td>14.561111</td>\n",
              "      <td>77.85715</td>\n",
              "    </tr>\n",
              "    <tr>\n",
              "      <th>3</th>\n",
              "      <td>Andhra Pradesh Circle</td>\n",
              "      <td>Kurnool Region</td>\n",
              "      <td>Hindupur Division</td>\n",
              "      <td>Obulareddipalli B.O</td>\n",
              "      <td>515581</td>\n",
              "      <td>BO</td>\n",
              "      <td>Delivery</td>\n",
              "      <td>ANANTAPUR</td>\n",
              "      <td>ANDHRA PRADESH</td>\n",
              "      <td>14.2488</td>\n",
              "      <td>78.2588</td>\n",
              "    </tr>\n",
              "    <tr>\n",
              "      <th>4</th>\n",
              "      <td>Andhra Pradesh Circle</td>\n",
              "      <td>Kurnool Region</td>\n",
              "      <td>Hindupur Division</td>\n",
              "      <td>Odulapalli B.O</td>\n",
              "      <td>515581</td>\n",
              "      <td>BO</td>\n",
              "      <td>Delivery</td>\n",
              "      <td>ANANTAPUR</td>\n",
              "      <td>ANDHRA PRADESH</td>\n",
              "      <td>14.24555</td>\n",
              "      <td>78.2477</td>\n",
              "    </tr>\n",
              "    <tr>\n",
              "      <th>...</th>\n",
              "      <td>...</td>\n",
              "      <td>...</td>\n",
              "      <td>...</td>\n",
              "      <td>...</td>\n",
              "      <td>...</td>\n",
              "      <td>...</td>\n",
              "      <td>...</td>\n",
              "      <td>...</td>\n",
              "      <td>...</td>\n",
              "      <td>...</td>\n",
              "      <td>...</td>\n",
              "    </tr>\n",
              "    <tr>\n",
              "      <th>151151</th>\n",
              "      <td>Andhra Pradesh Circle</td>\n",
              "      <td>Kurnool Region</td>\n",
              "      <td>Proddatur Division</td>\n",
              "      <td>Simhadripuram S.O</td>\n",
              "      <td>516454</td>\n",
              "      <td>PO</td>\n",
              "      <td>Delivery</td>\n",
              "      <td>Y.S.R.</td>\n",
              "      <td>ANDHRA PRADESH</td>\n",
              "      <td>14.6264444</td>\n",
              "      <td>78.1294722</td>\n",
              "    </tr>\n",
              "    <tr>\n",
              "      <th>151152</th>\n",
              "      <td>Andhra Pradesh Circle</td>\n",
              "      <td>Kurnool Region</td>\n",
              "      <td>Proddatur Division</td>\n",
              "      <td>Vaimpalle S.O</td>\n",
              "      <td>516329</td>\n",
              "      <td>PO</td>\n",
              "      <td>Delivery</td>\n",
              "      <td>Y.S.R.</td>\n",
              "      <td>ANDHRA PRADESH</td>\n",
              "      <td>14.3728333</td>\n",
              "      <td>78.4443889</td>\n",
              "    </tr>\n",
              "    <tr>\n",
              "      <th>151153</th>\n",
              "      <td>Andhra Pradesh Circle</td>\n",
              "      <td>Kurnool Region</td>\n",
              "      <td>Proddatur Division</td>\n",
              "      <td>Veerapunayanipalle S.O</td>\n",
              "      <td>516321</td>\n",
              "      <td>PO</td>\n",
              "      <td>Delivery</td>\n",
              "      <td>Y.S.R.</td>\n",
              "      <td>ANDHRA PRADESH</td>\n",
              "      <td>14.4720833</td>\n",
              "      <td>78.4716389</td>\n",
              "    </tr>\n",
              "    <tr>\n",
              "      <th>153176</th>\n",
              "      <td>Andhra Pradesh Circle</td>\n",
              "      <td>Kurnool Region</td>\n",
              "      <td>Tirupati Division</td>\n",
              "      <td>Nagari S.O</td>\n",
              "      <td>517590</td>\n",
              "      <td>PO</td>\n",
              "      <td>Delivery</td>\n",
              "      <td>CHITTOOR</td>\n",
              "      <td>ANDHRA PRADESH</td>\n",
              "      <td>13.3217778</td>\n",
              "      <td>79.5858333</td>\n",
              "    </tr>\n",
              "    <tr>\n",
              "      <th>153218</th>\n",
              "      <td>Andhra Pradesh Circle</td>\n",
              "      <td>Vijayawada Region</td>\n",
              "      <td>Gudur Division</td>\n",
              "      <td>Bangarupeta S.O</td>\n",
              "      <td>524404</td>\n",
              "      <td>PO</td>\n",
              "      <td>Delivery</td>\n",
              "      <td>SPSR NELLORE</td>\n",
              "      <td>ANDHRA PRADESH</td>\n",
              "      <td>13.9648611</td>\n",
              "      <td>79.6010556</td>\n",
              "    </tr>\n",
              "  </tbody>\n",
              "</table>\n",
              "<p>9596 rows × 11 columns</p>\n",
              "</div>\n",
              "    <div class=\"colab-df-buttons\">\n",
              "\n",
              "  <div class=\"colab-df-container\">\n",
              "    <button class=\"colab-df-convert\" onclick=\"convertToInteractive('df-7cd42d3a-424f-4e7c-ac8d-383aab29dbc9')\"\n",
              "            title=\"Convert this dataframe to an interactive table.\"\n",
              "            style=\"display:none;\">\n",
              "\n",
              "  <svg xmlns=\"http://www.w3.org/2000/svg\" height=\"24px\" viewBox=\"0 -960 960 960\">\n",
              "    <path d=\"M120-120v-720h720v720H120Zm60-500h600v-160H180v160Zm220 220h160v-160H400v160Zm0 220h160v-160H400v160ZM180-400h160v-160H180v160Zm440 0h160v-160H620v160ZM180-180h160v-160H180v160Zm440 0h160v-160H620v160Z\"/>\n",
              "  </svg>\n",
              "    </button>\n",
              "\n",
              "  <style>\n",
              "    .colab-df-container {\n",
              "      display:flex;\n",
              "      gap: 12px;\n",
              "    }\n",
              "\n",
              "    .colab-df-convert {\n",
              "      background-color: #E8F0FE;\n",
              "      border: none;\n",
              "      border-radius: 50%;\n",
              "      cursor: pointer;\n",
              "      display: none;\n",
              "      fill: #1967D2;\n",
              "      height: 32px;\n",
              "      padding: 0 0 0 0;\n",
              "      width: 32px;\n",
              "    }\n",
              "\n",
              "    .colab-df-convert:hover {\n",
              "      background-color: #E2EBFA;\n",
              "      box-shadow: 0px 1px 2px rgba(60, 64, 67, 0.3), 0px 1px 3px 1px rgba(60, 64, 67, 0.15);\n",
              "      fill: #174EA6;\n",
              "    }\n",
              "\n",
              "    .colab-df-buttons div {\n",
              "      margin-bottom: 4px;\n",
              "    }\n",
              "\n",
              "    [theme=dark] .colab-df-convert {\n",
              "      background-color: #3B4455;\n",
              "      fill: #D2E3FC;\n",
              "    }\n",
              "\n",
              "    [theme=dark] .colab-df-convert:hover {\n",
              "      background-color: #434B5C;\n",
              "      box-shadow: 0px 1px 3px 1px rgba(0, 0, 0, 0.15);\n",
              "      filter: drop-shadow(0px 1px 2px rgba(0, 0, 0, 0.3));\n",
              "      fill: #FFFFFF;\n",
              "    }\n",
              "  </style>\n",
              "\n",
              "    <script>\n",
              "      const buttonEl =\n",
              "        document.querySelector('#df-7cd42d3a-424f-4e7c-ac8d-383aab29dbc9 button.colab-df-convert');\n",
              "      buttonEl.style.display =\n",
              "        google.colab.kernel.accessAllowed ? 'block' : 'none';\n",
              "\n",
              "      async function convertToInteractive(key) {\n",
              "        const element = document.querySelector('#df-7cd42d3a-424f-4e7c-ac8d-383aab29dbc9');\n",
              "        const dataTable =\n",
              "          await google.colab.kernel.invokeFunction('convertToInteractive',\n",
              "                                                    [key], {});\n",
              "        if (!dataTable) return;\n",
              "\n",
              "        const docLinkHtml = 'Like what you see? Visit the ' +\n",
              "          '<a target=\"_blank\" href=https://colab.research.google.com/notebooks/data_table.ipynb>data table notebook</a>'\n",
              "          + ' to learn more about interactive tables.';\n",
              "        element.innerHTML = '';\n",
              "        dataTable['output_type'] = 'display_data';\n",
              "        await google.colab.output.renderOutput(dataTable, element);\n",
              "        const docLink = document.createElement('div');\n",
              "        docLink.innerHTML = docLinkHtml;\n",
              "        element.appendChild(docLink);\n",
              "      }\n",
              "    </script>\n",
              "  </div>\n",
              "\n",
              "\n",
              "<div id=\"df-4ed1a58b-8af4-4f71-a75d-0ed04dfed5b2\">\n",
              "  <button class=\"colab-df-quickchart\" onclick=\"quickchart('df-4ed1a58b-8af4-4f71-a75d-0ed04dfed5b2')\"\n",
              "            title=\"Suggest charts\"\n",
              "            style=\"display:none;\">\n",
              "\n",
              "<svg xmlns=\"http://www.w3.org/2000/svg\" height=\"24px\"viewBox=\"0 0 24 24\"\n",
              "     width=\"24px\">\n",
              "    <g>\n",
              "        <path d=\"M19 3H5c-1.1 0-2 .9-2 2v14c0 1.1.9 2 2 2h14c1.1 0 2-.9 2-2V5c0-1.1-.9-2-2-2zM9 17H7v-7h2v7zm4 0h-2V7h2v10zm4 0h-2v-4h2v4z\"/>\n",
              "    </g>\n",
              "</svg>\n",
              "  </button>\n",
              "\n",
              "<style>\n",
              "  .colab-df-quickchart {\n",
              "      --bg-color: #E8F0FE;\n",
              "      --fill-color: #1967D2;\n",
              "      --hover-bg-color: #E2EBFA;\n",
              "      --hover-fill-color: #174EA6;\n",
              "      --disabled-fill-color: #AAA;\n",
              "      --disabled-bg-color: #DDD;\n",
              "  }\n",
              "\n",
              "  [theme=dark] .colab-df-quickchart {\n",
              "      --bg-color: #3B4455;\n",
              "      --fill-color: #D2E3FC;\n",
              "      --hover-bg-color: #434B5C;\n",
              "      --hover-fill-color: #FFFFFF;\n",
              "      --disabled-bg-color: #3B4455;\n",
              "      --disabled-fill-color: #666;\n",
              "  }\n",
              "\n",
              "  .colab-df-quickchart {\n",
              "    background-color: var(--bg-color);\n",
              "    border: none;\n",
              "    border-radius: 50%;\n",
              "    cursor: pointer;\n",
              "    display: none;\n",
              "    fill: var(--fill-color);\n",
              "    height: 32px;\n",
              "    padding: 0;\n",
              "    width: 32px;\n",
              "  }\n",
              "\n",
              "  .colab-df-quickchart:hover {\n",
              "    background-color: var(--hover-bg-color);\n",
              "    box-shadow: 0 1px 2px rgba(60, 64, 67, 0.3), 0 1px 3px 1px rgba(60, 64, 67, 0.15);\n",
              "    fill: var(--button-hover-fill-color);\n",
              "  }\n",
              "\n",
              "  .colab-df-quickchart-complete:disabled,\n",
              "  .colab-df-quickchart-complete:disabled:hover {\n",
              "    background-color: var(--disabled-bg-color);\n",
              "    fill: var(--disabled-fill-color);\n",
              "    box-shadow: none;\n",
              "  }\n",
              "\n",
              "  .colab-df-spinner {\n",
              "    border: 2px solid var(--fill-color);\n",
              "    border-color: transparent;\n",
              "    border-bottom-color: var(--fill-color);\n",
              "    animation:\n",
              "      spin 1s steps(1) infinite;\n",
              "  }\n",
              "\n",
              "  @keyframes spin {\n",
              "    0% {\n",
              "      border-color: transparent;\n",
              "      border-bottom-color: var(--fill-color);\n",
              "      border-left-color: var(--fill-color);\n",
              "    }\n",
              "    20% {\n",
              "      border-color: transparent;\n",
              "      border-left-color: var(--fill-color);\n",
              "      border-top-color: var(--fill-color);\n",
              "    }\n",
              "    30% {\n",
              "      border-color: transparent;\n",
              "      border-left-color: var(--fill-color);\n",
              "      border-top-color: var(--fill-color);\n",
              "      border-right-color: var(--fill-color);\n",
              "    }\n",
              "    40% {\n",
              "      border-color: transparent;\n",
              "      border-right-color: var(--fill-color);\n",
              "      border-top-color: var(--fill-color);\n",
              "    }\n",
              "    60% {\n",
              "      border-color: transparent;\n",
              "      border-right-color: var(--fill-color);\n",
              "    }\n",
              "    80% {\n",
              "      border-color: transparent;\n",
              "      border-right-color: var(--fill-color);\n",
              "      border-bottom-color: var(--fill-color);\n",
              "    }\n",
              "    90% {\n",
              "      border-color: transparent;\n",
              "      border-bottom-color: var(--fill-color);\n",
              "    }\n",
              "  }\n",
              "</style>\n",
              "\n",
              "  <script>\n",
              "    async function quickchart(key) {\n",
              "      const quickchartButtonEl =\n",
              "        document.querySelector('#' + key + ' button');\n",
              "      quickchartButtonEl.disabled = true;  // To prevent multiple clicks.\n",
              "      quickchartButtonEl.classList.add('colab-df-spinner');\n",
              "      try {\n",
              "        const charts = await google.colab.kernel.invokeFunction(\n",
              "            'suggestCharts', [key], {});\n",
              "      } catch (error) {\n",
              "        console.error('Error during call to suggestCharts:', error);\n",
              "      }\n",
              "      quickchartButtonEl.classList.remove('colab-df-spinner');\n",
              "      quickchartButtonEl.classList.add('colab-df-quickchart-complete');\n",
              "    }\n",
              "    (() => {\n",
              "      let quickchartButtonEl =\n",
              "        document.querySelector('#df-4ed1a58b-8af4-4f71-a75d-0ed04dfed5b2 button');\n",
              "      quickchartButtonEl.style.display =\n",
              "        google.colab.kernel.accessAllowed ? 'block' : 'none';\n",
              "    })();\n",
              "  </script>\n",
              "</div>\n",
              "\n",
              "  <div id=\"id_a8bc4b29-35b6-4b1f-b49d-25d2e9d7fa1c\">\n",
              "    <style>\n",
              "      .colab-df-generate {\n",
              "        background-color: #E8F0FE;\n",
              "        border: none;\n",
              "        border-radius: 50%;\n",
              "        cursor: pointer;\n",
              "        display: none;\n",
              "        fill: #1967D2;\n",
              "        height: 32px;\n",
              "        padding: 0 0 0 0;\n",
              "        width: 32px;\n",
              "      }\n",
              "\n",
              "      .colab-df-generate:hover {\n",
              "        background-color: #E2EBFA;\n",
              "        box-shadow: 0px 1px 2px rgba(60, 64, 67, 0.3), 0px 1px 3px 1px rgba(60, 64, 67, 0.15);\n",
              "        fill: #174EA6;\n",
              "      }\n",
              "\n",
              "      [theme=dark] .colab-df-generate {\n",
              "        background-color: #3B4455;\n",
              "        fill: #D2E3FC;\n",
              "      }\n",
              "\n",
              "      [theme=dark] .colab-df-generate:hover {\n",
              "        background-color: #434B5C;\n",
              "        box-shadow: 0px 1px 3px 1px rgba(0, 0, 0, 0.15);\n",
              "        filter: drop-shadow(0px 1px 2px rgba(0, 0, 0, 0.3));\n",
              "        fill: #FFFFFF;\n",
              "      }\n",
              "    </style>\n",
              "    <button class=\"colab-df-generate\" onclick=\"generateWithVariable('home_state_df')\"\n",
              "            title=\"Generate code using this dataframe.\"\n",
              "            style=\"display:none;\">\n",
              "\n",
              "  <svg xmlns=\"http://www.w3.org/2000/svg\" height=\"24px\"viewBox=\"0 0 24 24\"\n",
              "       width=\"24px\">\n",
              "    <path d=\"M7,19H8.4L18.45,9,17,7.55,7,17.6ZM5,21V16.75L18.45,3.32a2,2,0,0,1,2.83,0l1.4,1.43a1.91,1.91,0,0,1,.58,1.4,1.91,1.91,0,0,1-.58,1.4L9.25,21ZM18.45,9,17,7.55Zm-12,3A5.31,5.31,0,0,0,4.9,8.1,5.31,5.31,0,0,0,1,6.5,5.31,5.31,0,0,0,4.9,4.9,5.31,5.31,0,0,0,6.5,1,5.31,5.31,0,0,0,8.1,4.9,5.31,5.31,0,0,0,12,6.5,5.46,5.46,0,0,0,6.5,12Z\"/>\n",
              "  </svg>\n",
              "    </button>\n",
              "    <script>\n",
              "      (() => {\n",
              "      const buttonEl =\n",
              "        document.querySelector('#id_a8bc4b29-35b6-4b1f-b49d-25d2e9d7fa1c button.colab-df-generate');\n",
              "      buttonEl.style.display =\n",
              "        google.colab.kernel.accessAllowed ? 'block' : 'none';\n",
              "\n",
              "      buttonEl.onclick = () => {\n",
              "        google.colab.notebook.generateWithVariable('home_state_df');\n",
              "      }\n",
              "      })();\n",
              "    </script>\n",
              "  </div>\n",
              "\n",
              "    </div>\n",
              "  </div>\n"
            ],
            "application/vnd.google.colaboratory.intrinsic+json": {
              "type": "dataframe",
              "variable_name": "home_state_df",
              "summary": "{\n  \"name\": \"home_state_df\",\n  \"rows\": 9596,\n  \"fields\": [\n    {\n      \"column\": \"CircleName\",\n      \"properties\": {\n        \"dtype\": \"category\",\n        \"num_unique_values\": 1,\n        \"samples\": [\n          \"Andhra Pradesh Circle\"\n        ],\n        \"semantic_type\": \"\",\n        \"description\": \"\"\n      }\n    },\n    {\n      \"column\": \"RegionName\",\n      \"properties\": {\n        \"dtype\": \"category\",\n        \"num_unique_values\": 3,\n        \"samples\": [\n          \"Kurnool Region\"\n        ],\n        \"semantic_type\": \"\",\n        \"description\": \"\"\n      }\n    },\n    {\n      \"column\": \"DivisionName\",\n      \"properties\": {\n        \"dtype\": \"category\",\n        \"num_unique_values\": 28,\n        \"samples\": [\n          \"Anakapalle Division\"\n        ],\n        \"semantic_type\": \"\",\n        \"description\": \"\"\n      }\n    },\n    {\n      \"column\": \"OfficeName\",\n      \"properties\": {\n        \"dtype\": \"string\",\n        \"num_unique_values\": 8579,\n        \"samples\": [\n          \"Chintagatla B.O\"\n        ],\n        \"semantic_type\": \"\",\n        \"description\": \"\"\n      }\n    },\n    {\n      \"column\": \"Pincode\",\n      \"properties\": {\n        \"dtype\": \"number\",\n        \"std\": 7138,\n        \"min\": 503145,\n        \"max\": 535594,\n        \"num_unique_values\": 1240,\n        \"samples\": [\n          517172\n        ],\n        \"semantic_type\": \"\",\n        \"description\": \"\"\n      }\n    },\n    {\n      \"column\": \"OfficeType\",\n      \"properties\": {\n        \"dtype\": \"category\",\n        \"num_unique_values\": 3,\n        \"samples\": [\n          \"BO\"\n        ],\n        \"semantic_type\": \"\",\n        \"description\": \"\"\n      }\n    },\n    {\n      \"column\": \"Delivery\",\n      \"properties\": {\n        \"dtype\": \"category\",\n        \"num_unique_values\": 2,\n        \"samples\": [\n          \"Non Delivery\"\n        ],\n        \"semantic_type\": \"\",\n        \"description\": \"\"\n      }\n    },\n    {\n      \"column\": \"District\",\n      \"properties\": {\n        \"dtype\": \"category\",\n        \"num_unique_values\": 14,\n        \"samples\": [\n          \"CHITTOOR\"\n        ],\n        \"semantic_type\": \"\",\n        \"description\": \"\"\n      }\n    },\n    {\n      \"column\": \"StateName\",\n      \"properties\": {\n        \"dtype\": \"category\",\n        \"num_unique_values\": 2,\n        \"samples\": [\n          \"PUDUCHERRY\"\n        ],\n        \"semantic_type\": \"\",\n        \"description\": \"\"\n      }\n    },\n    {\n      \"column\": \"Latitude\",\n      \"properties\": {\n        \"dtype\": \"string\",\n        \"num_unique_values\": 6966,\n        \"samples\": [\n          \"14.5089716\"\n        ],\n        \"semantic_type\": \"\",\n        \"description\": \"\"\n      }\n    },\n    {\n      \"column\": \"Longitude\",\n      \"properties\": {\n        \"dtype\": \"string\",\n        \"num_unique_values\": 6931,\n        \"samples\": [\n          \"83.430797\"\n        ],\n        \"semantic_type\": \"\",\n        \"description\": \"\"\n      }\n    }\n  ]\n}"
            }
          },
          "metadata": {},
          "execution_count": 169
        }
      ]
    },
    {
      "cell_type": "markdown",
      "source": [
        "Converting the columns into numpy arrays and restricting the latitude and longitude to the range of Andhra Pradesh"
      ],
      "metadata": {
        "id": "-bY1KqXV1OOv"
      }
    },
    {
      "cell_type": "code",
      "source": [
        "latitude = home_state_df['Latitude'].to_numpy().astype(float)\n",
        "longitude = home_state_df['Longitude'].to_numpy().astype(float)\n",
        "\n",
        "mask = (12 <= latitude) & (latitude <= 21) & (76 <= longitude) & (longitude <= 85)\n",
        "\n",
        "latitude = latitude[mask]\n",
        "longitude = longitude[mask]\n",
        "\n",
        "print(max(latitude))\n",
        "print(min(latitude))\n",
        "print(max(longitude))\n",
        "print(min(longitude))"
      ],
      "metadata": {
        "colab": {
          "base_uri": "https://localhost:8080/"
        },
        "id": "_WUtKU7JFCKN",
        "outputId": "2d0c0a96-4b6d-4219-83ca-536e87dfc348"
      },
      "execution_count": 170,
      "outputs": [
        {
          "output_type": "stream",
          "name": "stdout",
          "text": [
            "19.492225\n",
            "12.546647\n",
            "84.6945\n",
            "76.12\n"
          ]
        }
      ]
    },
    {
      "cell_type": "markdown",
      "source": [
        "Plotting the latitude and longitude points of Andhra Pradesh"
      ],
      "metadata": {
        "id": "xxuZUYkv1dS8"
      }
    },
    {
      "cell_type": "code",
      "source": [
        "plt.figure()\n",
        "\n",
        "plt.scatter(longitude, latitude, color = 'blue', label = f'{home_state}')\n",
        "\n",
        "plt.ylabel('Latitude')\n",
        "plt.xlabel('Longitude')\n",
        "plt.title('Andhra Pradesh')\n",
        "\n",
        "plt.legend()\n",
        "plt.grid()\n",
        "plt.show()"
      ],
      "metadata": {
        "colab": {
          "base_uri": "https://localhost:8080/",
          "height": 472
        },
        "id": "Ny7rtjuRE4Qq",
        "outputId": "f9ba8bb5-22bc-4fa2-b368-2c4645901a3b"
      },
      "execution_count": 171,
      "outputs": [
        {
          "output_type": "display_data",
          "data": {
            "text/plain": [
              "<Figure size 640x480 with 1 Axes>"
            ],
            "image/png": "[encoded data removed]"
          },
          "metadata": {}
        }
      ]
    },
    {
      "cell_type": "markdown",
      "source": [
        "Defining a function for implementing k-means clustering"
      ],
      "metadata": {
        "id": "PHXFPZzQ1li9"
      }
    },
    {
      "cell_type": "code",
      "source": [
        "def kmeans(data, k, max_epochs):\n",
        "  np.random.seed(42)\n",
        "  indices = np.random.choice(len(data), k, replace=False)\n",
        "  centroids = data[indices]\n",
        "\n",
        "  for epoch in range(max_epochs):\n",
        "    distances = LA.norm(data[:, np.newaxis] - centroids, axis=2)\n",
        "    labels = np.argmin(distances, axis=1)\n",
        "\n",
        "    for i in range(k):\n",
        "      centroids[i] = data[labels == i].mean(axis=0)\n",
        "\n",
        "  return centroids, labels"
      ],
      "metadata": {
        "id": "ZdwXpj7yjIKi"
      },
      "execution_count": 172,
      "outputs": []
    },
    {
      "cell_type": "markdown",
      "source": [
        "Defining a function to calculate WCSS values or inertia for a certain k"
      ],
      "metadata": {
        "id": "zmm21J7S1sym"
      }
    },
    {
      "cell_type": "code",
      "source": [
        "def calculate_wcss(data, labels, centroids, k):\n",
        "  wcss = 0\n",
        "  for i in range(k):\n",
        "    condition_cluster = (labels == i)\n",
        "    cluster_points = data[condition_cluster]\n",
        "\n",
        "    wcss += np.sum((cluster_points - centroids[i]) ** 2)\n",
        "  return wcss"
      ],
      "metadata": {
        "id": "lf_wHvqqw8Cd"
      },
      "execution_count": 173,
      "outputs": []
    },
    {
      "cell_type": "markdown",
      "source": [
        "Implementing k-means clustering and setting hyperparameters"
      ],
      "metadata": {
        "id": "cDaK1K3L108w"
      }
    },
    {
      "cell_type": "code",
      "source": [
        "data = np.column_stack((longitude, latitude))\n",
        "\n",
        "k = 4\n",
        "max_epochs = 100\n",
        "\n",
        "centroids, labels = kmeans(data, k, max_epochs)"
      ],
      "metadata": {
        "id": "5affdsHNo-nW"
      },
      "execution_count": 174,
      "outputs": []
    },
    {
      "cell_type": "markdown",
      "source": [
        "Plotting the clustered data for k = 4"
      ],
      "metadata": {
        "id": "Kjg3CEwV2Cy_"
      }
    },
    {
      "cell_type": "code",
      "source": [
        "plt.figure()\n",
        "\n",
        "for i in range(k):\n",
        "  condition_cluster = (labels == i)\n",
        "  cluster_points = data[condition_cluster]\n",
        "  plt.scatter(cluster_points[:, 0], cluster_points[:, 1], label=f'Cluster {i+1}')\n",
        "\n",
        "plt.scatter(centroids[:, 0], centroids[:, 1], color='black', marker='o', label='Centroids')\n",
        "\n",
        "plt.xlabel(\"Longitude\")\n",
        "plt.ylabel(\"Latitude\")\n",
        "plt.title(\"K-Means Clustering of Andhra Pradesh\")\n",
        "\n",
        "plt.legend()\n",
        "plt.grid(True)\n",
        "plt.show()"
      ],
      "metadata": {
        "colab": {
          "base_uri": "https://localhost:8080/",
          "height": 472
        },
        "id": "cwIf3irzpLFy",
        "outputId": "59f07751-2a94-47e1-d830-d2ec1e703321"
      },
      "execution_count": 175,
      "outputs": [
        {
          "output_type": "display_data",
          "data": {
            "text/plain": [
              "<Figure size 640x480 with 1 Axes>"
            ],
            "image/png": "[encoded data removed]"
          },
          "metadata": {}
        }
      ]
    },
    {
      "cell_type": "markdown",
      "source": [
        "Find the array of WCSS values for a range of k from 1 to 15"
      ],
      "metadata": {
        "id": "wF1En4232HoA"
      }
    },
    {
      "cell_type": "code",
      "source": [
        "wcss_values = []\n",
        "k_values = range(1,16)\n",
        "\n",
        "for k in k_values:\n",
        "  centroids, labels = kmeans(data, k, max_epochs)\n",
        "  wcss = calculate_wcss(data, labels, centroids, k)\n",
        "  wcss_values.append(wcss)\n",
        "\n",
        "wcss_values = np.array(wcss_values)\n",
        "print(wcss_values)"
      ],
      "metadata": {
        "colab": {
          "base_uri": "https://localhost:8080/"
        },
        "id": "Q-RvnYPHxvzw",
        "outputId": "e3bff516-68a0-44c7-8bbf-13b496db74ec"
      },
      "execution_count": 176,
      "outputs": [
        {
          "output_type": "stream",
          "name": "stdout",
          "text": [
            "[55317.13031667 16231.59578632  9037.5692727   6644.6701654\n",
            "  4569.53219811  3805.82871168  3338.67163622  2844.56166137\n",
            "  2650.5987568   2502.23359896  2402.19717645  2326.83739102\n",
            "  1804.49638074  1693.96323326  1520.37945137]\n"
          ]
        }
      ]
    },
    {
      "cell_type": "markdown",
      "source": [
        "Plotting the found WCSS values against the k values to see the elbow"
      ],
      "metadata": {
        "id": "dFAWD6KF2RRi"
      }
    },
    {
      "cell_type": "code",
      "source": [
        "plt.figure()\n",
        "\n",
        "plt.scatter(k_values, wcss_values, color='red', label='WCSS values')\n",
        "plt.plot(k_values, wcss_values, color='blue', label='WCSS curve')\n",
        "\n",
        "plt.xlabel(\"Values of k\")\n",
        "plt.ylabel(\"WCSS values\")\n",
        "plt.title(\"WCSS vs k\")\n",
        "\n",
        "plt.legend()\n",
        "plt.grid(True)\n",
        "plt.show()"
      ],
      "metadata": {
        "colab": {
          "base_uri": "https://localhost:8080/",
          "height": 472
        },
        "id": "SGKEDPqAzpmn",
        "outputId": "3cc1cacb-16e9-44f3-c860-9b295722793f"
      },
      "execution_count": 177,
      "outputs": [
        {
          "output_type": "display_data",
          "data": {
            "text/plain": [
              "<Figure size 640x480 with 1 Axes>"
            ],
            "image/png": "[encoded data removed]"
          },
          "metadata": {}
        }
      ]
    }
  ]
}